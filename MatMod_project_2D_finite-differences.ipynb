{
 "cells": [
  {
   "cell_type": "code",
   "execution_count": 1,
   "id": "b1b3fc40",
   "metadata": {},
   "outputs": [
    {
     "name": "stderr",
     "output_type": "stream",
     "text": [
      "C:\\Users\\matss\\anaconda3\\lib\\site-packages\\scipy\\__init__.py:146: UserWarning: A NumPy version >=1.16.5 and <1.23.0 is required for this version of SciPy (detected version 1.23.3\n",
      "  warnings.warn(f\"A NumPy version >={np_minversion} and <{np_maxversion}\"\n"
     ]
    }
   ],
   "source": [
    "%matplotlib notebook \n",
    "import numpy as np\n",
    "import matplotlib.pyplot as plt\n",
    "from getplate import getPlate\n",
    "from getdisc import GetDisc\n",
    "from matplotlib.animation import FuncAnimation\n",
    "from IPython.display import HTML, clear_output\n",
    "import matplotlib.animation as animation\n",
    "from IPython.display import HTML, clear_output\n",
    "from scipy.constants import Avogadro as avogadro\n",
    "from scipy.sparse import diags"
   ]
  },
  {
   "cell_type": "code",
   "execution_count": 2,
   "id": "3a3582d4",
   "metadata": {},
   "outputs": [
    {
     "data": {
      "text/html": [
       "<style>\n",
       ".output_wrapper button.btn.btn-default, .output_wrapper .ui-dialog-titlebar {\n",
       "    display: none;\n",
       "} </style>\n"
      ],
      "text/plain": [
       "<IPython.core.display.HTML object>"
      ]
     },
     "metadata": {},
     "output_type": "display_data"
    }
   ],
   "source": [
    "%%html \n",
    "<style>\n",
    ".output_wrapper button.btn.btn-default, .output_wrapper .ui-dialog-titlebar {\n",
    "    display: none;\n",
    "} </style>"
   ]
  },
  {
   "cell_type": "code",
   "execution_count": 52,
   "id": "136fdd3e",
   "metadata": {},
   "outputs": [
    {
     "name": "stdout",
     "output_type": "stream",
     "text": [
      "The three different choices for T's\n",
      "Diffusion\n",
      "2.42e-07\n",
      "2.8125e-10\n",
      "Chem right\n",
      "0.000150553519\n",
      "5.829432255680001e-06\n",
      "Chem Left\n",
      "5.165289256198347\n",
      "0.2\n"
     ]
    }
   ],
   "source": [
    "# Constants\n",
    "A = (2 * 0.22e-6)**2\n",
    "rho = 1e15\n",
    "k_on = 4e3\n",
    "k_off = 5\n",
    "epsilon = 1e-9\n",
    "N0 = 5000 / (A * epsilon * avogadro)\n",
    "R0 = rho / (epsilon * avogadro)\n",
    "kappa = 8e-7\n",
    "L1 = 2 * 0.22e-6\n",
    "L2 = 2 * 0.22e-6\n",
    "L3 = 15e-9\n",
    "\n",
    "print(\"The three different choices for T's\")\n",
    "print(\"Diffusion\")\n",
    "print(L1**2/kappa)\n",
    "print(L3**2/kappa)\n",
    "print(\"Chem right\")\n",
    "print(1/(k_on*R0))\n",
    "print(1/(k_on*N0))\n",
    "print(\"Chem Left\")\n",
    "print(N0/(k_off*R0))\n",
    "print(1/k_off)\n",
    "\n",
    "\n",
    "T = L1**2/kappa"
   ]
  },
  {
   "cell_type": "code",
   "execution_count": 4,
   "id": "0245655b",
   "metadata": {},
   "outputs": [],
   "source": [
    "def Lh(u):\n",
    "    '''\n",
    "        Action of the negative discrete Laplacian on the grid\n",
    "        Input: \n",
    "             - u: function on the grid to apply discrete Laplacian on\n",
    "             \n",
    "        Output:\n",
    "            -u: functin after the application of the discrete Laplacian\n",
    "    '''\n",
    "    u = np.copy(u) # avoid call by reference\n",
    "    \n",
    "    N = u.shape[0]-1 # u is ((N+1), (N+1))\n",
    "    h = 1/N\n",
    "    \n",
    "    index = np.arange(1,N) # indices corresponding to internal nodes\n",
    "    ixy   = np.ix_(index,index)\n",
    "    ixm_y = np.ix_(index-1,index)\n",
    "    ixp_y = np.ix_(index+1,index)\n",
    "    ix_ym = np.ix_(index,index-1)\n",
    "    ix_yp = np.ix_(index,index+1)\n",
    "    u[ixy] = -1/(h**2) * ( u[ixm_y] + u[ixp_y] + u[ix_ym] + u[ix_yp] -4*u[ixy])\n",
    "    \n",
    "    return u"
   ]
  },
  {
   "cell_type": "code",
   "execution_count": 5,
   "id": "cb230c72",
   "metadata": {
    "scrolled": false
   },
   "outputs": [],
   "source": [
    "def plot3D(p, u):\n",
    "    \"\"\"\n",
    "    Takes in a list of (x, y) cordinates p, a numerical solution and an exact solution. Plots the\n",
    "    numerical solution, exact solution and the error.\n",
    "    \"\"\"\n",
    "    fig = plt.figure(figsize=(18, 6))\n",
    "    \n",
    "    ax = fig.add_subplot(1, 3, 1, projection=\"3d\")\n",
    "    ax.plot_trisurf(p[:, 0], p[:, 1], u, linewidth=0.2)\n",
    "    ax.set_title(\"Numerical\")"
   ]
  },
  {
   "cell_type": "code",
   "execution_count": 74,
   "id": "088436ae",
   "metadata": {
    "scrolled": true
   },
   "outputs": [
    {
     "name": "stdout",
     "output_type": "stream",
     "text": [
      "[[-4.  2.  0. ...  0.  0.  0.]\n",
      " [ 1. -4.  1. ...  0.  0.  0.]\n",
      " [ 0.  1. -4. ...  0.  0.  0.]\n",
      " ...\n",
      " [ 0.  0.  0. ... -4.  1.  0.]\n",
      " [ 0.  0.  0. ...  1. -4.  1.]\n",
      " [ 0.  0.  0. ...  0.  2. -4.]]\n"
     ]
    }
   ],
   "source": [
    "N = 10\n",
    "\n",
    "x = np.linspace(0, 1, N)\n",
    "h = 1/N\n",
    "diag = np.ones(N*N)*(4)\n",
    "subdiag = np.ones_like(diag)\n",
    "subdiag[0::N] = 0\n",
    "subdiag[(N-1)::N] = 2\n",
    "supdiag = np.ones_like(diag)\n",
    "supdiag[0::N] = 0\n",
    "supdiag[1::N] = 2\n",
    "supNdiag = np.ones_like(diag)\n",
    "supNdiag[0:N] = 2\n",
    "subNdiag = np.ones_like(diag)\n",
    "subNdiag[-N:] = 2\n",
    "\n",
    "A = np.zeros((N**2, N**2))\n",
    "\n",
    "A = diags([subNdiag[N:], subdiag[1:], -diag, supdiag[1: ], supNdiag[:-N]] , [-N, -1, 0, 1, N]).toarray()\n",
    "\n",
    "print(A)\n",
    "\n",
    "n = np.zeros(N*N)\n",
    "n[-N+1:-1] = 1/(N-2)\n",
    "#n[N**2 - int(N/2)] = 1\n",
    "#n[55] = 1\n",
    "timeSteps = 10000\n",
    "\n",
    "k = 1/timeSteps\n",
    "\n",
    "\n",
    "nvec = [n.reshape(N, N)]\n",
    "r = np.ones(N)/N\n",
    "rvec = [r.copy()]\n",
    "\n",
    "\n",
    "def f(n, r):\n",
    "    return -k_on*N0*T*r*n + T*k_off*(1/R0-r)\n",
    "\n",
    "    \n",
    "def RKstep(h, n, r):\n",
    "    K1 = h*f(n, r)\n",
    "    K2 = h*f(n + h/2, r+K1/2)\n",
    "    K3 = h*f(n+h/2, r + K2/2)\n",
    "    K4 = h*f(n+h, r+K3)\n",
    "    return r + K1/6 + K2/3 + K3/3 + K4/6\n",
    "\n",
    "C = np.identity(N*N) - k/h**2 *kappa*T/L1**2* A\n",
    "for t in range(timeSteps):\n",
    "    n_new = np.linalg.solve(C, n)\n",
    "    #r_new = RKstep(k, n_new[:N], r)\n",
    "    #change = r_new - r\n",
    "    #n_new[0:N] += change\n",
    "    n = n_new\n",
    "    #r = r_new\n",
    "    n_ = n.reshape(N, N)\n",
    "    #r_ = r.copy()\n",
    "    nvec.append(n_.copy())\n",
    "    #rvec.append(r_.copy())\n",
    "\n",
    "\n"
   ]
  },
  {
   "cell_type": "code",
   "execution_count": 17,
   "id": "a4c9ac2d",
   "metadata": {
    "scrolled": false
   },
   "outputs": [
    {
     "name": "stdout",
     "output_type": "stream",
     "text": [
      "1.0\n",
      "0.6172839506168306\n",
      "[[0.    0.    0.    0.    0.    0.    0.    0.    0.    0.   ]\n",
      " [0.    0.    0.    0.    0.    0.    0.    0.    0.    0.   ]\n",
      " [0.    0.    0.    0.    0.    0.    0.    0.    0.    0.   ]\n",
      " [0.    0.    0.    0.    0.    0.    0.    0.    0.    0.   ]\n",
      " [0.    0.    0.    0.    0.    0.    0.    0.    0.    0.   ]\n",
      " [0.    0.    0.    0.    0.    0.    0.    0.    0.    0.   ]\n",
      " [0.    0.    0.    0.    0.    0.    0.    0.    0.    0.   ]\n",
      " [0.    0.    0.    0.    0.    0.    0.    0.    0.    0.   ]\n",
      " [0.    0.    0.    0.    0.    0.    0.    0.    0.    0.   ]\n",
      " [0.    0.125 0.125 0.125 0.125 0.125 0.125 0.125 0.125 0.   ]]\n"
     ]
    }
   ],
   "source": [
    "def plot3D(u):\n",
    "    \"\"\"\n",
    "    Takes in a list of (x, y) cordinates p, a numerical solution and an exact solution. Plots the\n",
    "    numerical solution, exact solution and the error.\n",
    "    \"\"\"\n",
    "    fig = plt.figure(figsize=(18, 6))\n",
    "    x = np.linspace(0, 1, N)\n",
    "    y = np.linspace(0, 1, N)\n",
    "    X, Y = np.meshgrid(x, y, indexing = \"ij\")\n",
    "    \n",
    "    ax = fig.add_subplot(1, 3, 1, projection=\"3d\")\n",
    "    ax.plot_surface(X, Y, u, linewidth=0.2)\n",
    "    ax.set_title(\"Numerical\")\n",
    "\n",
    "\n",
    "print(np.sum(nvec[0]))\n",
    "print(np.sum(nvec[-1]))\n",
    "\n",
    "print(nvec[0])\n"
   ]
  },
  {
   "cell_type": "code",
   "execution_count": 8,
   "id": "f990efb6",
   "metadata": {},
   "outputs": [],
   "source": [
    "%%capture\n",
    "def animate_n(ui, fps):\n",
    "    dt = 1/fps\n",
    "    fig = plt.figure()\n",
    "    ax = plt.axes(projection='3d')\n",
    "    x = np.linspace(0, 1, N)\n",
    "    y = np.linspace(0, 1, N)\n",
    "    X, Y = np.meshgrid(x, y, indexing = \"ij\")\n",
    "    ui = np.array(ui)\n",
    "    maxVal = np.max(ui)\n",
    "    \n",
    "    y = np.linspace(0, 1, N)\n",
    "    #x = ui[-1]\n",
    "    #pcm = ax.tricontourf(p[:,0], p[:,1], tri, x, vmin = 0, vmax = maxVal)\n",
    "    #fig.colorbar(pcm)\n",
    "    \n",
    "    #Method to change the contour plot\n",
    "    def animate(i):\n",
    "        ax.clear()\n",
    "        u = ui[i]\n",
    "        #pcm = ax.tricontourf(p[:,0], p[:,1], tri, x)#, vmin = 0, vmax = maxVal)\n",
    "        ax.plot_surface(X, Y, u, linewidth=0.2)\n",
    "        #fig.colorbar(pcm)\n",
    "    \n",
    "    \n",
    "    ani = animation.FuncAnimation(fig, animate, frames = (len(ui)), interval=dt, repeat = False)\n",
    "    \n",
    "    return HTML(ani.to_jshtml())\n",
    "\n",
    "#ani = animate_n(nvec, 100)"
   ]
  },
  {
   "cell_type": "code",
   "execution_count": 9,
   "id": "967d63f2",
   "metadata": {
    "scrolled": false
   },
   "outputs": [
    {
     "ename": "NameError",
     "evalue": "name 'ani' is not defined",
     "output_type": "error",
     "traceback": [
      "\u001b[1;31m---------------------------------------------------------------------------\u001b[0m",
      "\u001b[1;31mNameError\u001b[0m                                 Traceback (most recent call last)",
      "Input \u001b[1;32mIn [9]\u001b[0m, in \u001b[0;36m<cell line: 1>\u001b[1;34m()\u001b[0m\n\u001b[1;32m----> 1\u001b[0m display(\u001b[43mani\u001b[49m)\n",
      "\u001b[1;31mNameError\u001b[0m: name 'ani' is not defined"
     ]
    }
   ],
   "source": [
    "display(ani)"
   ]
  },
  {
   "cell_type": "code",
   "execution_count": 65,
   "id": "9103dabd",
   "metadata": {},
   "outputs": [
    {
     "name": "stdout",
     "output_type": "stream",
     "text": [
      "[[0. 0. 0. 0. 0. 0. 0. 0. 0. 0.]\n",
      " [0. 0. 0. 0. 0. 0. 0. 0. 0. 0.]\n",
      " [0. 0. 0. 0. 0. 0. 0. 0. 0. 0.]\n",
      " [0. 0. 0. 0. 0. 0. 0. 0. 0. 0.]\n",
      " [0. 0. 0. 0. 0. 0. 0. 0. 0. 0.]\n",
      " [0. 0. 0. 0. 0. 1. 0. 0. 0. 0.]\n",
      " [0. 0. 0. 0. 0. 0. 0. 0. 0. 0.]\n",
      " [0. 0. 0. 0. 0. 0. 0. 0. 0. 0.]\n",
      " [0. 0. 0. 0. 0. 0. 0. 0. 0. 0.]\n",
      " [0. 0. 0. 0. 0. 0. 0. 0. 0. 0.]]\n",
      "[[0.01234563 0.01234563 0.01234563 0.01234564 0.01234565 0.01234566\n",
      "  0.01234567 0.01234567 0.01234568 0.01234568]\n",
      " [0.01234563 0.01234563 0.01234563 0.01234564 0.01234565 0.01234566\n",
      "  0.01234567 0.01234567 0.01234568 0.01234568]\n",
      " [0.01234563 0.01234563 0.01234564 0.01234565 0.01234565 0.01234566\n",
      "  0.01234567 0.01234568 0.01234568 0.01234569]\n",
      " [0.01234564 0.01234564 0.01234565 0.01234565 0.01234566 0.01234567\n",
      "  0.01234568 0.01234569 0.01234569 0.01234569]\n",
      " [0.01234565 0.01234565 0.01234565 0.01234566 0.01234567 0.01234568\n",
      "  0.01234569 0.01234569 0.0123457  0.0123457 ]\n",
      " [0.01234566 0.01234566 0.01234566 0.01234567 0.01234568 0.01234569\n",
      "  0.0123457  0.0123457  0.01234571 0.01234571]\n",
      " [0.01234567 0.01234567 0.01234567 0.01234568 0.01234569 0.0123457\n",
      "  0.01234571 0.01234571 0.01234572 0.01234572]\n",
      " [0.01234567 0.01234567 0.01234568 0.01234569 0.01234569 0.0123457\n",
      "  0.01234571 0.01234572 0.01234572 0.01234573]\n",
      " [0.01234568 0.01234568 0.01234568 0.01234569 0.0123457  0.01234571\n",
      "  0.01234572 0.01234572 0.01234573 0.01234573]\n",
      " [0.01234568 0.01234568 0.01234569 0.01234569 0.0123457  0.01234571\n",
      "  0.01234572 0.01234573 0.01234573 0.01234573]]\n"
     ]
    }
   ],
   "source": [
    "print(nvec[0])\n",
    "print(nvec[-1])"
   ]
  },
  {
   "cell_type": "code",
   "execution_count": 21,
   "id": "4a44405f",
   "metadata": {},
   "outputs": [
    {
     "name": "stdout",
     "output_type": "stream",
     "text": [
      "[0.1 0.1 0.1 0.1 0.1 0.1 0.1 0.1 0.1 0.1]\n",
      "[0.1 0.1 0.1 0.1 0.1 0.1 0.1 0.1 0.1 0.1]\n"
     ]
    }
   ],
   "source": [
    "print(rvec[0])\n",
    "print(rvec[-1])"
   ]
  },
  {
   "cell_type": "code",
   "execution_count": 75,
   "id": "1ca97799",
   "metadata": {},
   "outputs": [
    {
     "name": "stdout",
     "output_type": "stream",
     "text": [
      "1.0\n",
      "0.6172839506168306\n"
     ]
    }
   ],
   "source": [
    "print(np.sum(nvec[0]))\n",
    "print(np.sum(nvec[-1]))"
   ]
  },
  {
   "cell_type": "code",
   "execution_count": 76,
   "id": "bb8596db",
   "metadata": {},
   "outputs": [
    {
     "name": "stdout",
     "output_type": "stream",
     "text": [
      "1.0\n",
      "0.99267194057796\n",
      "0.9855127148358999\n",
      "0.978519179298003\n",
      "0.9716881638387068\n",
      "0.9650164807132848\n",
      "0.9585009327583254\n",
      "0.9521383208247597\n",
      "0.9459254505016679\n",
      "0.939859138184977\n",
      "0.9339362165413223\n",
      "0.9281535394137788\n",
      "0.9225079862128412\n",
      "0.9169964658329369\n",
      "0.9116159201318731\n",
      "0.9063633270079399\n",
      "0.9012357031068927\n",
      "0.8962301061887136\n",
      "0.891343637181888\n",
      "0.8865734419509241\n",
      "0.8819167128009634\n",
      "0.8773706897415976\n",
      "0.8729326615303737\n",
      "0.8685999665149755\n",
      "0.8643699932916539\n",
      "0.8602401811961847\n",
      "0.8562080206424107\n",
      "0.8522710533223036\n",
      "0.848426872280429\n",
      "0.8446731218747235\n",
      "0.8410074976345896\n",
      "0.8374277460264651\n",
      "0.8339316641362515\n",
      "0.8305170992772504\n",
      "0.8271819485315848\n",
      "0.8239241582324598\n",
      "0.820741723394025\n",
      "0.8176326870950713\n",
      "0.8145951398222879\n",
      "0.8116272187783384\n"
     ]
    }
   ],
   "source": [
    "for i in range(40):\n",
    "    print(np.sum(nvec[i]))"
   ]
  },
  {
   "cell_type": "code",
   "execution_count": null,
   "id": "e17a1db3",
   "metadata": {},
   "outputs": [],
   "source": []
  }
 ],
 "metadata": {
  "kernelspec": {
   "display_name": "Python 3 (ipykernel)",
   "language": "python",
   "name": "python3"
  },
  "language_info": {
   "codemirror_mode": {
    "name": "ipython",
    "version": 3
   },
   "file_extension": ".py",
   "mimetype": "text/x-python",
   "name": "python",
   "nbconvert_exporter": "python",
   "pygments_lexer": "ipython3",
   "version": "3.9.13"
  }
 },
 "nbformat": 4,
 "nbformat_minor": 5
}
