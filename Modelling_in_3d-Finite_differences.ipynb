{
 "cells": [
  {
   "cell_type": "markdown",
   "metadata": {},
   "source": [
    "# Numerical modelling of synaptic transmission in 3D"
   ]
  },
  {
   "cell_type": "code",
   "execution_count": 1,
   "metadata": {},
   "outputs": [],
   "source": [
    "%matplotlib notebook \n",
    "import numpy as np\n",
    "import matplotlib.pyplot as plt\n",
    "from getCylinder2 import GetCylinder\n",
    "\n",
    "from matplotlib.animation import FuncAnimation\n",
    "from IPython.display import HTML, clear_output"
   ]
  },
  {
   "cell_type": "code",
   "execution_count": 2,
   "metadata": {},
   "outputs": [
    {
     "data": {
      "text/html": [
       "<style>\n",
       ".output_wrapper button.btn.btn-default, .output_wrapper .ui-dialog-titlebar {\n",
       "    display: none;\n",
       "} </style>\n"
      ],
      "text/plain": [
       "<IPython.core.display.HTML object>"
      ]
     },
     "metadata": {},
     "output_type": "display_data"
    }
   ],
   "source": [
    "%%html \n",
    "<style>\n",
    ".output_wrapper button.btn.btn-default, .output_wrapper .ui-dialog-titlebar {\n",
    "    display: none;\n",
    "} </style>"
   ]
  },
  {
   "cell_type": "code",
   "execution_count": 3,
   "metadata": {},
   "outputs": [],
   "source": [
    "#Constants, for now set everything equal to one"
   ]
  },
  {
   "cell_type": "markdown",
   "metadata": {},
   "source": [
    "## 3D\n",
    "* Build mass matrix and load vector\n",
    "* Need new mesh generator, new matrix and load vector builder, otherwise the same\n",
    "* Solve system of ODE's\n",
    "* More complicated animation"
   ]
  },
  {
   "cell_type": "code",
   "execution_count": null,
   "metadata": {},
   "outputs": [],
   "source": [
    "def animate_diffusion(nArray, fps, step, p, steps):\n",
    "    fig = plt.figure()\n",
    "    ax = plt.axes(projection='3d')\n",
    "    \n",
    "    #Method to change the contour plot\n",
    "    def animate(i):\n",
    "        ax.clear()\n",
    "        ax.scatter3D(p[:,0], p[:,1], p[:,2], c = nArray[i*step])\n",
    "        ax.set_title(f\"diffusion after {i*step} steps, i = {i}\");\n",
    "\n",
    "    ani = FuncAnimation(fig, animate, frames = steps-1, repeat = False)\n",
    "    #return HTML(ani.to_jshtml())\n",
    "    return ani\n",
    "\n",
    "def animate_func(p, nArray, steps = 100, duration = 5):\n",
    "    step = len(nArray)//steps\n",
    "    plt.rcParams[\"figure.figsize\"] = [5.00, 5.00]\n",
    "    plt.rcParams[\"figure.autolayout\"] = True\n",
    "    fps = steps / duration\n",
    "    animations = animate_diffusion(nArray, fps,step, p, steps)\n",
    "    \n",
    "    return animations"
   ]
  },
  {
   "cell_type": "code",
   "execution_count": null,
   "metadata": {},
   "outputs": [],
   "source": [
    "%%capture\n",
    "ani = animate_func(p, nArray, 20)"
   ]
  },
  {
   "cell_type": "code",
   "execution_count": null,
   "metadata": {
    "scrolled": false
   },
   "outputs": [],
   "source": [
    "display(HTML(ani.to_jshtml()))"
   ]
  },
  {
   "cell_type": "markdown",
   "metadata": {},
   "source": [
    "### Trying diffusion only with Dirichlet Boundary conditions"
   ]
  },
  {
   "cell_type": "markdown",
   "metadata": {},
   "source": [
    "### New attempt to get something working: Finite differences using quadratic base plate\n",
    "\n",
    "You specify Number of nodes in x and y direction N, number of nodes in z direction n and height of z-axis.\n",
    "The first and last (N+1)^2 nodes are on boundary. On each layer the (N+1) first and last are on boundary. Also for each N-1 row at each layer, the first and last are on boundary."
   ]
  },
  {
   "cell_type": "code",
   "execution_count": null,
   "metadata": {},
   "outputs": [],
   "source": [
    "def GenerateUniformMesh(N, n, h=0.1):\n",
    "    #Get nodal values\n",
    "    p = NodalPoints(N, n, h)\n",
    "    \n",
    "    # Get boundary nodes\n",
    "    bottom_bd, top_bd, East_bd, West_bd, South_bd, North_bd, Interior = Boundary2(p, N, n)\n",
    "    return p, bottom_bd, top_bd, East_bd, West_bd, South_bd, North_bd, Interior\n",
    "\n",
    "def NodalPoints(N,n,h):\n",
    "    #N number of nodes in x and y direction\n",
    "    p = np.zeros([])\n",
    "    for i in range(n+1):\n",
    "        p_ = np.zeros(((N+1)**2, 3))\n",
    "        for j in range(N+1):\n",
    "            p_[j*(N+1):(j+1)*(N+1),0] = np.linspace(-1,1,N+1)\n",
    "            p_[j*(N+1):(j+1)*(N+1),1] = np.ones(N+1)*-1+2*j*1/N\n",
    "            p_[j*(N+1):(j+1)*(N+1),2] = np.ones(N+1)*i*h/n\n",
    "            \n",
    "        if i == 0:\n",
    "            p = p_\n",
    "        else:\n",
    "            p = np.concatenate((p, p_), axis = 0)\n",
    "    return p\n",
    "\n",
    "def Boundary(p, N, n):\n",
    "    bottom_bd = np.arange((N+1)**2)\n",
    "    top_bd = bottom_bd + n*(N+1)**2\n",
    "    East_bd = np.array([i for i in range((N+1)**2, n*(N+1)**2) if p[i,0] == 1 and p[i,1] != -1 and p[i,1] != 1])\n",
    "    West_bd = np.array([i for i in range((N+1)**2, n*(N+1)**2) if p[i,0] == -1 and p[i,1] != -1 and p[i,1] != 1])\n",
    "    South_bd = np.array([i for i in range((N+1)**2, n*(N+1)**2) if p[i,1] == -1 and p[i,0] != -1 and p[i,0] != 1])\n",
    "    North_bd = np.array([i for i in range((N+1)**2, n*(N+1)**2) if p[i,1] == 1 and p[i,0] != -1 and p[i,0] != 1])\n",
    "    Interior = np.array([i for i in range((N+1)**2, n*(N+1)**2) if p[i,1] != 1 and p[i,1] != -1 and p[i,0] != -1 and p[i,0] != 1])\n",
    "    return bottom_bd, top_bd, East_bd, West_bd, South_bd, North_bd, Interior\n",
    "\n",
    "def Boundary2(p, N, n):\n",
    "    bottom_bd = np.arange((N+1)**2)\n",
    "    bottom_bd = np.array([i for i in range((N+1)**2) if p[i,0] != 1 and p[i,0] != -1 and p[i,1] != -1 and p[i,1] != 1])\n",
    "    top_bd = bottom_bd + n*(N+1)**2\n",
    "    East_bd = np.array([i for i in range((N+1)**2, n*(N+1)**2) if p[i,0] == 1 and p[i,1] != -1 and p[i,1] != 1])\n",
    "    West_bd = np.array([i for i in range((N+1)**2, n*(N+1)**2) if p[i,0] == -1 and p[i,1] != -1 and p[i,1] != 1])\n",
    "    South_bd = np.array([i for i in range((N+1)**2, n*(N+1)**2) if p[i,1] == -1 and p[i,0] != -1 and p[i,0] != 1])\n",
    "    North_bd = np.array([i for i in range((N+1)**2, n*(N+1)**2) if p[i,1] == 1 and p[i,0] != -1 and p[i,0] != 1])\n",
    "    Interior = np.array([i for i in range((N+1)**2, n*(N+1)**2) if p[i,1] != 1 and p[i,1] != -1 and p[i,0] != -1 and p[i,0] != 1])\n",
    "    return bottom_bd, top_bd, East_bd, West_bd, South_bd, North_bd, Interior"
   ]
  },
  {
   "cell_type": "code",
   "execution_count": null,
   "metadata": {},
   "outputs": [],
   "source": [
    "N = 10\n",
    "n = 5\n",
    "\n",
    "p, bottom, top, east, west, south, north, Interior = GenerateUniformMesh(N, n)\n",
    "args = (bottom ,top, east, west, south, north)\n",
    "boundary = np.concatenate(args)"
   ]
  },
  {
   "cell_type": "code",
   "execution_count": null,
   "metadata": {},
   "outputs": [],
   "source": [
    "middle = int(1/2 * n*(N+1)**2 + ((N+1)**2)//2)\n",
    "print(p[middle])\n",
    "print(p[middle-(N+1)])\n",
    "#fig = plt.figure()\n",
    "plt.figure()\n",
    "ax = plt.axes(projection='3d')\n",
    "ax.scatter3D(p[boundary,0], p[boundary,1], p[boundary,2])\n",
    "\n",
    "#fig.close()"
   ]
  },
  {
   "cell_type": "code",
   "execution_count": null,
   "metadata": {},
   "outputs": [],
   "source": [
    "def FiniteDifferenceApproxDirichlet(N, n, h = 0.1, maxiter = 1000):\n",
    "    # Generate mesh\n",
    "    p, bottom, top, east, west, south, north, interior = GenerateUniformMesh(N, n)\n",
    "    args = (bottom ,top, east, west, south, north)\n",
    "    boundary = np.concatenate(args)\n",
    "    middle = int(1/2 * n*(N+1)**2 + ((N+1)**2)//2)\n",
    "    # Initial conditions\n",
    "    # first try: middle point has value\n",
    "    n0 = np.zeros(len(p)) # Full matrix\n",
    "    n0[middle] = 1\n",
    "    n_interior0 = n0[interior]\n",
    "    \n",
    "    # Finite differences for interior points\n",
    "    # For now homogenous Dirichlet\n",
    "    dx, dy = 2/N, 2/N\n",
    "    dz = h/n\n",
    "    A = GenerateA(dx, dy, dz, N, n)\n",
    "    I = np.identity(len(A))\n",
    "    nArray = [n0]\n",
    "    dt = 0.5/maxiter\n",
    "    for i in range(maxiter):\n",
    "        n_interior = nArray[i][interior]        \n",
    "        n_int_new = np.linalg.solve((I - 1/2 * dt * A), (I + 1/2 * dt * A)@n_interior)\n",
    "        n_new = np.zeros(len(p))\n",
    "        n_new[interior] = n_int_new\n",
    "        nArray.append(n_new)\n",
    "    # Homogenous Neumann BC part\n",
    "    '''\n",
    "    p[bottom] = p[bottom+(N+1)**2] # Derivative in z-direction is 0\n",
    "    p[top] = p[top-(N+1)**2] # Derivative in z-direction is 0\n",
    "    p[east] = p[east-1] # Derivative in x-direction is 0\n",
    "    p[west] = p[west+1] # Derivative in x-direction is 0\n",
    "    p[south] = p[south + N+1] # Derivative in z-direction is 0\n",
    "    p[north] = p[north - N-1] # Derivative in z-direction is 0\n",
    "    ''';\n",
    "    return p, nArray, boundary\n",
    "\n",
    "def GenerateA(dx, dy, dz, N, n):\n",
    "    alpha = -2*(1/(dx**2) + 1/(dy**2) + 1/(dx**2))\n",
    "    A = np.zeros(((N-1)**2*(n-1), (N-1)**2*(n-1)))\n",
    "    np.fill_diagonal(A, np.ones((N-1)**2*(n-1))*alpha)\n",
    "\n",
    "    np.fill_diagonal(A[1:], np.ones((N-1)**2*(n-1)-1)*1/(dx**2))\n",
    "    np.fill_diagonal(A[:,1:], np.ones((N-1)**2*(n-1)-1)*1/(dx**2))\n",
    "\n",
    "    np.fill_diagonal(A[N-1:], np.ones((N-1)**2*(n-1)-N+1)*1/(dy**2))\n",
    "    np.fill_diagonal(A[:,N-1:], np.ones((N-1)**2*(n-1)-N+1)*1/(dy**2))\n",
    "\n",
    "    np.fill_diagonal(A[(N-1)**2:], np.ones((N-1)**2*(n-1)-(N-1)**2)*1/(dy**2))\n",
    "    np.fill_diagonal(A[:,(N-1)**2:], np.ones((N-1)**2*(n-1)-(N-1)**2)*1/(dy**2))\n",
    "    return A"
   ]
  },
  {
   "cell_type": "code",
   "execution_count": null,
   "metadata": {},
   "outputs": [],
   "source": [
    "p, nArray, boundary = FiniteDifferenceApproxDirichlet(10, 10, 0.1, 1000)"
   ]
  },
  {
   "cell_type": "code",
   "execution_count": null,
   "metadata": {},
   "outputs": [],
   "source": [
    "for n in nArray:\n",
    "    if not (all(node == 0 for node in n[boundary])):\n",
    "        print(\"Error\")\n",
    "        break"
   ]
  },
  {
   "cell_type": "code",
   "execution_count": null,
   "metadata": {},
   "outputs": [],
   "source": [
    "%%capture\n",
    "ani = animate_func(p, nArray, 50)"
   ]
  },
  {
   "cell_type": "code",
   "execution_count": null,
   "metadata": {},
   "outputs": [],
   "source": [
    "display(HTML(ani.to_jshtml()))"
   ]
  },
  {
   "cell_type": "code",
   "execution_count": null,
   "metadata": {},
   "outputs": [],
   "source": [
    "def findBoundaryIndexes(N_, n_):\n",
    "    int_bottom = np.arange(N_**2 )\n",
    "    int_top = np.arange(N_**2*(n_-1), N_**2*(n_))\n",
    "    int_south_first = np.arange(N_)\n",
    "    int_south = int_south_first\n",
    "    for i in range(1,n_):\n",
    "        int_south_ = int_south_first + i*N_**2\n",
    "        int_south = np.concatenate((int_south, int_south_))\n",
    "        \n",
    "    int_north = int_south + N_**2 - N_\n",
    "    int_west_first = np.arange(N_)*N_\n",
    "    int_west = int_west_first\n",
    "    for i in range(1, n_):\n",
    "        int_west_ = int_west_first + i*N_**2\n",
    "        int_west = np.concatenate((int_west, int_west_))\n",
    "    int_east = int_west + N_-1\n",
    "    return int_bottom, int_south, int_north, int_west, int_east, int_top"
   ]
  },
  {
   "cell_type": "code",
   "execution_count": null,
   "metadata": {},
   "outputs": [],
   "source": [
    "def FiniteDifferenceApproxNeumann(N, n, h = 0.1, maxiter = 1000):\n",
    "    # Generate mesh\n",
    "    p, bottom, top, east, west, south, north, interior = GenerateUniformMesh(N, n)\n",
    "    args = (bottom ,top, east, west, south, north)\n",
    "    boundary = np.concatenate(args)\n",
    "    middle = int(1/2 * n*(N+1)**2)\n",
    "    # Initial conditions\n",
    "    # first try: middle point has value\n",
    "    n0 = np.zeros(len(p)) # Full matrix\n",
    "    n0[middle] = 1\n",
    "    n_interior0 = n0[interior]\n",
    "    \n",
    "    # Finite differences for interior points\n",
    "    dx, dy = 2/N, 2/N\n",
    "    dz = h/n\n",
    "    A = GenerateA(dx, dy, dz, N, n)\n",
    "    I = np.identity(len(A))\n",
    "    \n",
    "    # Need to find which nodes lie near boundary\n",
    "    int_bottom, int_south, int_north, int_west, int_east, int_top = findBoundaryIndexes(N-1, n-1)\n",
    "    \n",
    "    nArray = [n0]\n",
    "    dt = 1/maxiter\n",
    "    for i in range(maxiter):\n",
    "        n_interior = nArray[i][interior]\n",
    "        # Create F that adds boundary terms\n",
    "        # This is not quite right, int_bottom is not boundary of full matrix\n",
    "        F = np.zeros(len(n_interior))\n",
    "        \n",
    "        F[int_bottom] += 1/(dz**2) * nArray[i][bottom]\n",
    "        F[int_top] += 1/(dz**2) * nArray[i][top]\n",
    "        F[int_south] += 1/(dy**2) * nArray[i][south]\n",
    "        F[int_north] += 1/(dy**2) * nArray[i][north]\n",
    "        F[int_west] += 1/(dx**2) * nArray[i][west]\n",
    "        F[int_east] += 1/(dx**2) * nArray[i][east]\n",
    "        \n",
    "        g = np.zeros(len(n_interior))\n",
    "        g[int_bottom] += 1/(dz**2)\n",
    "        g[int_top] += 1/(dz**2)\n",
    "        g[int_south] += 1/(dy**2)\n",
    "        g[int_north] += 1/(dy**2)\n",
    "        g[int_west] += 1/(dx**2)\n",
    "        g[int_east] += 1/(dx**2)\n",
    "        \n",
    "        G = np.zeros(A.shape)\n",
    "        np.fill_diagonal(G, g)\n",
    "        #n_int_new = np.linalg.solve((I - 1/2 * dt * (A+G)), (I + 1/2 * dt * A)@n_interior+ dt*F)\n",
    "        #n_int_new = np.linalg.solve((I - 1/2 * dt * A), (I + 1/2 * dt * A)@n_interior)# + dt*F)\n",
    "        #n_int_new = (I + dt * A)@n_interior #+ dt*F\n",
    "        n_new = np.zeros(len(p))\n",
    "        n_new[interior] = n_int_new\n",
    "        \n",
    "        \n",
    "        # Homogenous Neumann part, i.e derivative in direction of normal = 0\n",
    "        n_new[bottom] = n_new[bottom + (N+1)**2]\n",
    "        n_new[top] = n_new[top - (N+1)**2]\n",
    "        n_new[south] = n_new[south + (N+1)]\n",
    "        n_new[north] = n_new[north - (N+1)]\n",
    "        n_new[west] = n_new[west + 1]\n",
    "        n_new[east] = n_new[east - 1]\n",
    "        \n",
    "        \n",
    "        nArray.append(n_new)\n",
    "        \n",
    "    return p, nArray, boundary"
   ]
  },
  {
   "cell_type": "code",
   "execution_count": null,
   "metadata": {},
   "outputs": [],
   "source": [
    "N = 10\n",
    "n = 5\n",
    "p, nArray, boundary = FiniteDifferenceApproxNeumann(N, n, h = 0.1, maxiter = 10000)"
   ]
  },
  {
   "cell_type": "code",
   "execution_count": null,
   "metadata": {},
   "outputs": [],
   "source": [
    "%%capture\n",
    "ani = animate_func(p, nArray, 20)"
   ]
  },
  {
   "cell_type": "code",
   "execution_count": null,
   "metadata": {},
   "outputs": [],
   "source": [
    "display(HTML(ani.to_jshtml()))"
   ]
  },
  {
   "cell_type": "code",
   "execution_count": null,
   "metadata": {},
   "outputs": [],
   "source": [
    "for n_ in nArray:\n",
    "    print(np.sum(n_))"
   ]
  },
  {
   "cell_type": "code",
   "execution_count": null,
   "metadata": {},
   "outputs": [],
   "source": []
  }
 ],
 "metadata": {
  "kernelspec": {
   "display_name": "Python 3 (ipykernel)",
   "language": "python",
   "name": "python3"
  },
  "language_info": {
   "codemirror_mode": {
    "name": "ipython",
    "version": 3
   },
   "file_extension": ".py",
   "mimetype": "text/x-python",
   "name": "python",
   "nbconvert_exporter": "python",
   "pygments_lexer": "ipython3",
   "version": "3.8.3"
  }
 },
 "nbformat": 4,
 "nbformat_minor": 4
}
